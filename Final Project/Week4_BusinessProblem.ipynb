{
 "cells": [
  {
   "cell_type": "markdown",
   "metadata": {},
   "source": [
    "<html>\n",
    "<head>\n",
    "<style>\n",
    "h1, h2, h3 {text-align: center;}\n",
    "p {text-align: justify;}\n",
    "</style>\n",
    "</head>\n",
    "\n",
    "<h1>RECOMMENDER SYSTEM FOR OPENING  A NEW RESTAURANT IN JAKARTA, INDONESIA</h1>\n",
    "<h2>IBM Applied Data Science - Week 4 (Business Problem)</h2>\n",
    "\n",
    "<hr>\n",
    "<h3><u>I. Introduction</u></h3>\n",
    "<p>&emsp;&emsp;Jakarta, officially the Special Capital Region of Jakarta (Indonesian: Daerah Khusus Ibukota Jakarta), is the capital and largest city of Indonesia. Situated on the northwest coast of the world's most populous island of Java, it is the centre of economy, culture and politics of Indonesia with a population of more than ten million as of 2014. Although Jakarta only covers 699.5 square kilometres, the smallest among any Indonesian provinces, its metropolitan area covers 6,392 square kilometres. It is the world's second-most populous urban area after Tokyo, with a population of about 30 million as of 2010. Jakarta's business opportunities, as well as its potential to offer a higher standard of living, have attracted migrants from across the Indonesian archipelago, making it a melting pot of numerous cultures.</p>\n",
    "\n",
    "<p>&emsp;&emsp;Indonesia is the largest economy of ASEAN, and Jakarta is the economic nerve centre of the Indonesian archipelago. Jakarta's nominal GDP was US$483.8 billion in 2016, which is about 17.5% of Indonesia's. Jakarta ranked at 21 in the list of Cities Of Economic Influence Index in 2020 by CEOWORLD magazine. According to the Japan Center for Economic Research, GRP per capita of Jakarta will rank 28th among the 77 cities in 2030 from 41st in 2015, the largest in Southeast Asia. Savills Resilient Cities Index has predicted Jakarta to be within the top 20 cities in the world by 2028.</p>\n",
    "\n",
    "<p>&emsp;&emsp;The two major population groups in Indonesia that are deemed attractive target consumer bases for the Food Service Industry in Indonesia, especially in Jakarta, are the middle-income group and millennials, due to their large number and unique consumption behavior. Indonesia has a relatively young population, with 59 percent being aged between 15 and 54 years and a median age of 30 years. This big, yet young slice, gives Indonesia one of the best ever “demographic bonuses” enjoyed by any country today. Jakarta’s increasing urbanization and a rise in the number of office workers has consequently seen growth in both disposable income and household consumption.</p>\n",
    "\n",
    "<br>\n",
    "<h3><u>II. Problem Background</u></h3>\n",
    "\n",
    "<p>&emsp;&emsp;Food service industry growth has been consistent over the past several years. SWA Magazine stated there were 380 million restaurant visits in Jakarta during 2013 and resultant revenues of IDR 22.23 trillion (approx. USD $1.5 billion). The same research identified the number of high-end restaurants in Jakarta more than doubling in the period of 2009 to 2014. According to Euromonitor, food service in Indonesia grew at a CAGR of 8.7 percent from 2010 to 2014, reaching USD $36.8 billion sales in 2014. Indonesia's Trade Ministry statistics state that the Indonesian culinary sector overall grew by 8.16 percent in 2015. More recently, growth by outlet has slowed down although larger food franchises continue to expand steadily. As of 2018, value growth continues to exceed forecasted expectations as does daily sales volumes.</p>\n",
    "\n",
    "<p>&emsp;&emsp;The restaurants business in Jakarta is going through a revolutionary change due to the strong driving force of consumer's market power, vigorous competion and new management practices. As a metropolitan city consisting of diverse culture and nationalities, Jakarta has a vast range of restaurant options from street vendors to upscale dining restaurants and cafes. Food is a major expense in the indonesian family's monthly budget, requiring on average 60% of total expenditures. Jakarta's market is a vibrant and diverse food service market as well as being fast developing and growing. The region represents a large and exiting potential for food service suppliers with the possibility of creating synergies in terms of distribution, marketing and production. In the context of food & beverage industry, some of the product decision that may be considered would consists from the selection and type of the menu, the taste of the food and beverages to the overall ambiance or feel of the restaurant.</p>\n",
    "\n",
    "<p>&emsp;&emsp;The objective of this project is to analyse and select the best category of food & beverage for anyone who wants to open a new culinary business in the city of Jakarta, Indonesia based on every district in its area but they don't have much knowledge about the area so it's hard to decide what kind of food & beverage category they want to open. Using data science methodology and machine learning techniques like clustering and recommender system, this project aims to provide solutions to answer the culinary business question: In the city of Jakarta, Indonesia, if a someone is looking to open a new food & beverage service in a specific district, what kind of food & beverage category would you recommend that they open it?</p>\n",
    "\n",
    "<br>\n",
    "<h3><u>III. Target Audience</u></h3>\n",
    "<p>&emsp;&emsp;This project is particulary useful not only for someone who wants to open or invest in a new food & beverage service but also for everyone who wants to find the most frequent food & beverage service in specific area based on district to know what is the most frequent of its category in the area they are looking for and all this could be easily handed by our recommender system.</p>\n",
    "</html>"
   ]
  }
 ],
 "metadata": {
  "language_info": {
   "codemirror_mode": {
    "name": "ipython",
    "version": 3
   },
   "file_extension": ".py",
   "mimetype": "text/x-python",
   "name": "python",
   "nbconvert_exporter": "python",
   "pygments_lexer": "ipython3",
   "version": 3
  },
  "orig_nbformat": 2
 },
 "nbformat": 4,
 "nbformat_minor": 2
}